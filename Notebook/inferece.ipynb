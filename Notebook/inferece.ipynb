{
 "cells": [
  {
   "cell_type": "code",
   "execution_count": 39,
   "metadata": {},
   "outputs": [],
   "source": [
    "import pandas as pd\n",
    "import pickle\n",
    "import requests\n",
    "from datetime import datetime\n"
   ]
  },
  {
   "cell_type": "code",
   "execution_count": 40,
   "metadata": {},
   "outputs": [],
   "source": [
    "btc_linear_model_path = \"../artifacts/btcusdt_1d_linear_model.pkl\"\n",
    "eth_linear_model_path = \"../artifacts/ethusdt_1d_linear_model.pkl\"\n",
    "\n",
    "with open(btc_linear_model_path, \"rb\") as f:\n",
    "    btc_linear_model = pickle.load(f)\n",
    "\n",
    "with open(eth_linear_model_path, \"rb\") as f:\n",
    "    eth_linear_model = pickle.load(f)\n"
   ]
  },
  {
   "cell_type": "code",
   "execution_count": 41,
   "metadata": {},
   "outputs": [],
   "source": [
    "btc_symbol = \"BTCUSDT\"\n",
    "eth_symbol = \"ETHUSDT\"\n",
    "interval = \"1d\"\n",
    "limit = 1 # Get the latest candle\n",
    "\n",
    "btc_url = f'https://api.binance.com/api/v3/klines?symbol={btc_symbol}&interval={interval}&limit={limit}'\n",
    "eth_url = f'https://api.binance.com/api/v3/klines?symbol={eth_symbol}&interval={interval}&limit={limit}'\n",
    "\n",
    "btc_response = requests.get(btc_url)\n",
    "eth_response = requests.get(eth_url)\n",
    "\n",
    "btc_data = btc_response.json()[0]  # Latest candlestick data\n",
    "eth_data = eth_response.json()[0]  # Latest candlestick data\n"
   ]
  },
  {
   "cell_type": "code",
   "execution_count": 42,
   "metadata": {},
   "outputs": [
    {
     "data": {
      "text/plain": [
       "'99500.00000000'"
      ]
     },
     "execution_count": 42,
     "metadata": {},
     "output_type": "execute_result"
    }
   ],
   "source": [
    "btc_data[2]"
   ]
  },
  {
   "cell_type": "code",
   "execution_count": 43,
   "metadata": {},
   "outputs": [],
   "source": [
    "btc_input_data = {\n",
    "    \"Open Time\": int(btc_data[0]), \n",
    "    \"Open\": float(btc_data[1]),\n",
    "    \"High\": float(btc_data[2]),\n",
    "    \"Low\": float(btc_data[3]),\n",
    "    \"Close\": float(btc_data[4]),\n",
    "    \"Volume\": float(btc_data[5]),\n",
    "    \"Quote Asset Volume\": float(btc_data[7]),\n",
    "    \"Number of Trades\": int(btc_data[8]),\n",
    "    \"Taker Buy Base Volume\": float(btc_data[9]),\n",
    "    \"Taker Buy Quote Volume\": float(btc_data[10]),\n",
    "    \"Average Price\": (float(btc_data[1]) + float(btc_data[4])) / 2,\n",
    "    \"Price Change\": float(btc_data[4]) - float(btc_data[1])\n",
    "}\n",
    "\n",
    "eth_input_data = {\n",
    "    \"Open Time\": int(eth_data[0]),  \n",
    "    \"Open\": float(eth_data[1]),\n",
    "    \"High\": float(eth_data[2]),\n",
    "    \"Low\": float(eth_data[3]),\n",
    "    \"Close\": float(eth_data[4]),\n",
    "    \"Volume\": float(eth_data[5]),\n",
    "    \"Quote Asset Volume\": float(eth_data[7]),\n",
    "    \"Number of Trades\": int(eth_data[8]),\n",
    "    \"Taker Buy Base Volume\": float(eth_data[9]),\n",
    "    \"Taker Buy Quote Volume\": float(eth_data[10]),\n",
    "    \"Average Price\": (float(eth_data[1]) + float(eth_data[4])) / 2,\n",
    "    \"Price Change\": float(eth_data[4]) - float(eth_data[1])\n",
    "}\n"
   ]
  },
  {
   "cell_type": "code",
   "execution_count": 44,
   "metadata": {},
   "outputs": [],
   "source": [
    "btc_df = pd.DataFrame([btc_input_data])\n",
    "eth_df = pd.DataFrame([eth_input_data])\n"
   ]
  },
  {
   "cell_type": "code",
   "execution_count": 45,
   "metadata": {},
   "outputs": [
    {
     "data": {
      "text/html": [
       "<div>\n",
       "<style scoped>\n",
       "    .dataframe tbody tr th:only-of-type {\n",
       "        vertical-align: middle;\n",
       "    }\n",
       "\n",
       "    .dataframe tbody tr th {\n",
       "        vertical-align: top;\n",
       "    }\n",
       "\n",
       "    .dataframe thead th {\n",
       "        text-align: right;\n",
       "    }\n",
       "</style>\n",
       "<table border=\"1\" class=\"dataframe\">\n",
       "  <thead>\n",
       "    <tr style=\"text-align: right;\">\n",
       "      <th></th>\n",
       "      <th>Open Time</th>\n",
       "      <th>Open</th>\n",
       "      <th>High</th>\n",
       "      <th>Low</th>\n",
       "      <th>Close</th>\n",
       "      <th>Volume</th>\n",
       "      <th>Quote Asset Volume</th>\n",
       "      <th>Number of Trades</th>\n",
       "      <th>Taker Buy Base Volume</th>\n",
       "      <th>Taker Buy Quote Volume</th>\n",
       "      <th>Average Price</th>\n",
       "      <th>Price Change</th>\n",
       "    </tr>\n",
       "  </thead>\n",
       "  <tbody>\n",
       "    <tr>\n",
       "      <th>0</th>\n",
       "      <td>1738540800000</td>\n",
       "      <td>97700.59</td>\n",
       "      <td>99500.0</td>\n",
       "      <td>91231.0</td>\n",
       "      <td>98217.95</td>\n",
       "      <td>58716.19453</td>\n",
       "      <td>5.577886e+09</td>\n",
       "      <td>8413434</td>\n",
       "      <td>28054.4964</td>\n",
       "      <td>2.666787e+09</td>\n",
       "      <td>97959.27</td>\n",
       "      <td>517.36</td>\n",
       "    </tr>\n",
       "  </tbody>\n",
       "</table>\n",
       "</div>"
      ],
      "text/plain": [
       "       Open Time      Open     High      Low     Close       Volume  \\\n",
       "0  1738540800000  97700.59  99500.0  91231.0  98217.95  58716.19453   \n",
       "\n",
       "   Quote Asset Volume  Number of Trades  Taker Buy Base Volume  \\\n",
       "0        5.577886e+09           8413434             28054.4964   \n",
       "\n",
       "   Taker Buy Quote Volume  Average Price  Price Change  \n",
       "0            2.666787e+09       97959.27        517.36  "
      ]
     },
     "execution_count": 45,
     "metadata": {},
     "output_type": "execute_result"
    }
   ],
   "source": [
    "btc_df"
   ]
  },
  {
   "cell_type": "code",
   "execution_count": 46,
   "metadata": {},
   "outputs": [],
   "source": [
    "btc_df = btc_df.drop(columns=[\"Open Time\"], errors=\"ignore\")\n",
    "eth_df = eth_df.drop(columns=[\"Open Time\"], errors=\"ignore\")\n",
    "\n",
    "btc_timestamp = pd.to_datetime(btc_input_data[\"Open Time\"], unit='ms')\n",
    "eth_timestamp = pd.to_datetime(eth_input_data[\"Open Time\"], unit='ms')\n",
    "\n",
    "btc_df[\"year\"] = btc_timestamp.year\n",
    "btc_df[\"month\"] = btc_timestamp.month\n",
    "btc_df[\"day\"] = btc_timestamp.day\n",
    "\n",
    "eth_df[\"year\"] = eth_timestamp.year\n",
    "eth_df[\"month\"] = eth_timestamp.month\n",
    "eth_df[\"day\"] = eth_timestamp.day\n"
   ]
  },
  {
   "cell_type": "code",
   "execution_count": 47,
   "metadata": {},
   "outputs": [],
   "source": [
    "btc_linear_prediction = btc_linear_model.predict(btc_df)[0]\n",
    "eth_linear_prediction = eth_linear_model.predict(eth_df)[0]\n"
   ]
  },
  {
   "cell_type": "code",
   "execution_count": 48,
   "metadata": {},
   "outputs": [
    {
     "data": {
      "text/html": [
       "<div>\n",
       "<style scoped>\n",
       "    .dataframe tbody tr th:only-of-type {\n",
       "        vertical-align: middle;\n",
       "    }\n",
       "\n",
       "    .dataframe tbody tr th {\n",
       "        vertical-align: top;\n",
       "    }\n",
       "\n",
       "    .dataframe thead th {\n",
       "        text-align: right;\n",
       "    }\n",
       "</style>\n",
       "<table border=\"1\" class=\"dataframe\">\n",
       "  <thead>\n",
       "    <tr style=\"text-align: right;\">\n",
       "      <th></th>\n",
       "      <th>Actual BTC Price</th>\n",
       "      <th>Predicted BTC Price</th>\n",
       "    </tr>\n",
       "  </thead>\n",
       "  <tbody>\n",
       "    <tr>\n",
       "      <th>0</th>\n",
       "      <td>98217.95000000</td>\n",
       "      <td>98217.95</td>\n",
       "    </tr>\n",
       "  </tbody>\n",
       "</table>\n",
       "</div>"
      ],
      "text/plain": [
       "  Actual BTC Price  Predicted BTC Price\n",
       "0   98217.95000000             98217.95"
      ]
     },
     "execution_count": 48,
     "metadata": {},
     "output_type": "execute_result"
    }
   ],
   "source": [
    "pd.DataFrame({\"Actual BTC Price\": btc_data[4], \"Predicted BTC Price\": btc_linear_prediction,}, index=[0])"
   ]
  },
  {
   "cell_type": "code",
   "execution_count": 49,
   "metadata": {},
   "outputs": [
    {
     "data": {
      "text/html": [
       "<div>\n",
       "<style scoped>\n",
       "    .dataframe tbody tr th:only-of-type {\n",
       "        vertical-align: middle;\n",
       "    }\n",
       "\n",
       "    .dataframe tbody tr th {\n",
       "        vertical-align: top;\n",
       "    }\n",
       "\n",
       "    .dataframe thead th {\n",
       "        text-align: right;\n",
       "    }\n",
       "</style>\n",
       "<table border=\"1\" class=\"dataframe\">\n",
       "  <thead>\n",
       "    <tr style=\"text-align: right;\">\n",
       "      <th></th>\n",
       "      <th>Actual ETH Price</th>\n",
       "      <th>Predicted ETH Price</th>\n",
       "    </tr>\n",
       "  </thead>\n",
       "  <tbody>\n",
       "    <tr>\n",
       "      <th>0</th>\n",
       "      <td>2681.99000000</td>\n",
       "      <td>2681.99</td>\n",
       "    </tr>\n",
       "  </tbody>\n",
       "</table>\n",
       "</div>"
      ],
      "text/plain": [
       "  Actual ETH Price  Predicted ETH Price\n",
       "0    2681.99000000              2681.99"
      ]
     },
     "execution_count": 49,
     "metadata": {},
     "output_type": "execute_result"
    }
   ],
   "source": [
    "pd.DataFrame({\"Actual ETH Price\": eth_data[4], \"Predicted ETH Price\": eth_linear_prediction,}, index=[0])"
   ]
  }
 ],
 "metadata": {
  "kernelspec": {
   "display_name": "base",
   "language": "python",
   "name": "python3"
  },
  "language_info": {
   "codemirror_mode": {
    "name": "ipython",
    "version": 3
   },
   "file_extension": ".py",
   "mimetype": "text/x-python",
   "name": "python",
   "nbconvert_exporter": "python",
   "pygments_lexer": "ipython3",
   "version": "3.12.7"
  }
 },
 "nbformat": 4,
 "nbformat_minor": 2
}
