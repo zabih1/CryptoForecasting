{
 "cells": [
  {
   "cell_type": "code",
   "execution_count": 28,
   "metadata": {},
   "outputs": [],
   "source": [
    "import torch\n",
    "import torch.nn as nn\n",
    "import torch.optim as optim\n",
    "from torch.utils.data import DataLoader, TensorDataset\n",
    "import numpy as np\n",
    "import pandas as pd\n",
    "from sklearn.preprocessing import MinMaxScaler\n",
    "from sklearn.model_selection import train_test_split"
   ]
  },
  {
   "cell_type": "code",
   "execution_count": 29,
   "metadata": {},
   "outputs": [],
   "source": [
    "import requests\n",
    "import pandas as pd\n",
    "import numpy as np\n",
    "from sklearn.preprocessing import MinMaxScaler\n",
    "import torch\n",
    "import torch.nn as nn\n",
    "import torch.optim as optim\n",
    "from sklearn.metrics import mean_absolute_error, mean_squared_error\n",
    "import matplotlib.pyplot as plt\n",
    "\n",
    "# Function to fetch historical data from Binance API\n",
    "def fetch_historical_data(symbol, interval='1d', start_date=None, end_date=None, limit=1000):\n",
    "    url = f'https://api.binance.com/api/v3/klines?symbol={symbol}&interval={interval}&limit={limit}'\n",
    "    \n",
    "    if start_date:\n",
    "        url += f'&startTime={int(pd.Timestamp(start_date).timestamp() * 1000)}'\n",
    "    if end_date:\n",
    "        url += f'&endTime={int(pd.Timestamp(end_date).timestamp() * 1000)}'\n",
    "    \n",
    "    response = requests.get(url)\n",
    "    \n",
    "    if response.status_code != 200:\n",
    "        raise Exception(f'Error fetching data: {response.status_code} - {response.text}')\n",
    "    \n",
    "    data = response.json()\n",
    "    \n",
    "    df = pd.DataFrame(data, columns=[\n",
    "        'timestamp', 'open', 'high', 'low', 'close', 'volume',\n",
    "        'close_time', 'quote_asset_volume', 'number_of_trades',\n",
    "        'taker_buy_base_asset_volume', 'taker_buy_quote_asset_volume', 'ignore'\n",
    "    ])\n",
    "    \n",
    "    df['timestamp'] = pd.to_datetime(df['timestamp'], unit='ms')\n",
    "    df.set_index('timestamp', inplace=True)\n",
    "    df.drop(columns=['close_time', 'ignore'], inplace=True)\n",
    "    \n",
    "    # Convert columns to numeric\n",
    "    df = df.apply(pd.to_numeric, errors='coerce')\n",
    "    \n",
    "    df['price_range'] = df['high'] - df['low']\n",
    "    df['close_to_open'] = df['close'] - df['open']\n",
    "    \n",
    "    return df\n",
    "\n",
    "# Fetch Ethereum data\n",
    "# symbol = 'ETHUSDT'\n",
    "symbol = 'BTCUSDT'\n",
    "df = fetch_historical_data(symbol, start_date='2022-06-01', end_date='2025-02-06')\n"
   ]
  },
  {
   "cell_type": "code",
   "execution_count": 30,
   "metadata": {},
   "outputs": [],
   "source": [
    "# Preprocess: Shift the target (closing price) by -1 to predict the next day's closing price\n",
    "df['target'] = df['close'].shift(-1)\n",
    "\n",
    "# Drop the last row because it will have a NaN target (due to the shift)\n",
    "df = df.dropna()"
   ]
  },
  {
   "cell_type": "code",
   "execution_count": 31,
   "metadata": {},
   "outputs": [],
   "source": [
    "# Define sequence length\n",
    "sequence_length = 30\n",
    "\n",
    "# Function to create sequences\n",
    "def create_sequences(data, sequence_length):\n",
    "    xs, ys = [], []\n",
    "    for i in range(len(data) - sequence_length):\n",
    "        x = data.iloc[i:(i + sequence_length)].values\n",
    "        y = data.iloc[i + sequence_length]['target']\n",
    "        xs.append(x)\n",
    "        ys.append(y)\n",
    "    return np.array(xs), np.array(ys)\n",
    "\n",
    "# Create sequences\n",
    "X_seq, y_seq = create_sequences(df, sequence_length)\n",
    "\n"
   ]
  },
  {
   "cell_type": "code",
   "execution_count": null,
   "metadata": {},
   "outputs": [],
   "source": []
  },
  {
   "cell_type": "code",
   "execution_count": 32,
   "metadata": {},
   "outputs": [],
   "source": [
    "\n",
    "train_size = int(0.8 * len(X_seq))\n",
    "X_train, X_test = X_seq[:train_size], X_seq[train_size:]\n",
    "y_train, y_test = y_seq[:train_size], y_seq[train_size:]\n",
    "\n",
    "# Convert to PyTorch tensors\n",
    "X_train = torch.tensor(X_train, dtype=torch.float32)\n",
    "y_train = torch.tensor(y_train, dtype=torch.float32)\n",
    "X_test = torch.tensor(X_test, dtype=torch.float32)\n",
    "y_test = torch.tensor(y_test, dtype=torch.float32)\n",
    "\n",
    "# Create DataLoader\n",
    "train_dataset = TensorDataset(X_train, y_train)\n",
    "test_dataset = TensorDataset(X_test, y_test)\n",
    "\n",
    "batch_size = 32\n",
    "train_loader = DataLoader(train_dataset, batch_size=batch_size, shuffle=False)\n",
    "test_loader = DataLoader(test_dataset, batch_size=batch_size, shuffle=False)"
   ]
  },
  {
   "cell_type": "code",
   "execution_count": 33,
   "metadata": {},
   "outputs": [
    {
     "data": {
      "text/plain": [
       "24"
      ]
     },
     "execution_count": 33,
     "metadata": {},
     "output_type": "execute_result"
    }
   ],
   "source": [
    "len(train_loader)"
   ]
  },
  {
   "cell_type": "code",
   "execution_count": 34,
   "metadata": {},
   "outputs": [
    {
     "data": {
      "text/plain": [
       "6"
      ]
     },
     "execution_count": 34,
     "metadata": {},
     "output_type": "execute_result"
    }
   ],
   "source": [
    "len(test_loader)"
   ]
  },
  {
   "cell_type": "code",
   "execution_count": 35,
   "metadata": {},
   "outputs": [],
   "source": [
    "class RNNModel(nn.Module):\n",
    "    def __init__(self, input_size, hidden_size, output_size, num_layers=1):\n",
    "        super(RNNModel, self).__init__()\n",
    "        self.hidden_size = hidden_size\n",
    "        self.num_layers = num_layers\n",
    "        self.rnn = nn.RNN(input_size, hidden_size, num_layers, batch_first=True)\n",
    "        self.fc = nn.Linear(hidden_size, output_size)\n",
    "    \n",
    "    def forward(self, x):\n",
    "        h0 = torch.zeros(self.num_layers, x.size(0), self.hidden_size).to(x.device)\n",
    "        out, _ = self.rnn(x, h0)\n",
    "        out = self.fc(out[:, -1, :])\n",
    "        return out\n",
    "\n",
    "# Hyperparameters\n",
    "input_size = X_train.shape[2]  # Number of features\n",
    "hidden_size = 50\n",
    "output_size = 1\n",
    "num_layers = 1\n",
    "\n",
    "# Initialize the model\n",
    "model = RNNModel(input_size, hidden_size, output_size, num_layers)\n",
    "\n",
    "# Loss and optimizer\n",
    "criterion = nn.MSELoss()\n",
    "optimizer = optim.Adam(model.parameters(), lr=0.001)"
   ]
  },
  {
   "cell_type": "code",
   "execution_count": 36,
   "metadata": {},
   "outputs": [
    {
     "name": "stderr",
     "output_type": "stream",
     "text": [
      "c:\\Users\\Zabih\\anaconda3\\Lib\\site-packages\\torch\\nn\\modules\\loss.py:608: UserWarning: Using a target size (torch.Size([32])) that is different to the input size (torch.Size([32, 1])). This will likely lead to incorrect results due to broadcasting. Please ensure they have the same size.\n",
      "  return F.mse_loss(input, target, reduction=self.reduction)\n",
      "c:\\Users\\Zabih\\anaconda3\\Lib\\site-packages\\torch\\nn\\modules\\loss.py:608: UserWarning: Using a target size (torch.Size([24])) that is different to the input size (torch.Size([24, 1])). This will likely lead to incorrect results due to broadcasting. Please ensure they have the same size.\n",
      "  return F.mse_loss(input, target, reduction=self.reduction)\n"
     ]
    },
    {
     "name": "stdout",
     "output_type": "stream",
     "text": [
      "Epoch [1/100], Loss: 4055348480.0000\n",
      "Epoch [2/100], Loss: 4055197952.0000\n",
      "Epoch [3/100], Loss: 4055051776.0000\n",
      "Epoch [4/100], Loss: 4054907136.0000\n",
      "Epoch [5/100], Loss: 4054763776.0000\n",
      "Epoch [6/100], Loss: 4054620928.0000\n",
      "Epoch [7/100], Loss: 4054478336.0000\n",
      "Epoch [8/100], Loss: 4054336768.0000\n",
      "Epoch [9/100], Loss: 4054194944.0000\n",
      "Epoch [10/100], Loss: 4054053376.0000\n",
      "Epoch [11/100], Loss: 4053912320.0000\n",
      "Epoch [12/100], Loss: 4053770240.0000\n",
      "Epoch [13/100], Loss: 4053629184.0000\n",
      "Epoch [14/100], Loss: 4053488128.0000\n",
      "Epoch [15/100], Loss: 4053347328.0000\n",
      "Epoch [16/100], Loss: 4053206272.0000\n",
      "Epoch [17/100], Loss: 4053065728.0000\n",
      "Epoch [18/100], Loss: 4052924672.0000\n",
      "Epoch [19/100], Loss: 4052784896.0000\n",
      "Epoch [20/100], Loss: 4052643840.0000\n",
      "Epoch [21/100], Loss: 4052502784.0000\n",
      "Epoch [22/100], Loss: 4052362496.0000\n",
      "Epoch [23/100], Loss: 4052221952.0000\n",
      "Epoch [24/100], Loss: 4052081408.0000\n",
      "Epoch [25/100], Loss: 4051941120.0000\n",
      "Epoch [26/100], Loss: 4051800576.0000\n",
      "Epoch [27/100], Loss: 4051660288.0000\n",
      "Epoch [28/100], Loss: 4051519744.0000\n",
      "Epoch [29/100], Loss: 4051379456.0000\n",
      "Epoch [30/100], Loss: 4051238400.0000\n",
      "Epoch [31/100], Loss: 4051098624.0000\n",
      "Epoch [32/100], Loss: 4050958080.0000\n",
      "Epoch [33/100], Loss: 4050817536.0000\n",
      "Epoch [34/100], Loss: 4050678272.0000\n",
      "Epoch [35/100], Loss: 4050537216.0000\n",
      "Epoch [36/100], Loss: 4050397440.0000\n",
      "Epoch [37/100], Loss: 4050256896.0000\n",
      "Epoch [38/100], Loss: 4050117120.0000\n",
      "Epoch [39/100], Loss: 4049976320.0000\n",
      "Epoch [40/100], Loss: 4049836800.0000\n",
      "Epoch [41/100], Loss: 4049696000.0000\n",
      "Epoch [42/100], Loss: 4049555968.0000\n",
      "Epoch [43/100], Loss: 4049415680.0000\n",
      "Epoch [44/100], Loss: 4049275648.0000\n",
      "Epoch [45/100], Loss: 4049135872.0000\n",
      "Epoch [46/100], Loss: 4048995584.0000\n",
      "Epoch [47/100], Loss: 4048855552.0000\n",
      "Epoch [48/100], Loss: 4048715776.0000\n",
      "Epoch [49/100], Loss: 4048575232.0000\n",
      "Epoch [50/100], Loss: 4048435456.0000\n",
      "Epoch [51/100], Loss: 4048295168.0000\n",
      "Epoch [52/100], Loss: 4048155136.0000\n",
      "Epoch [53/100], Loss: 4048014848.0000\n",
      "Epoch [54/100], Loss: 4047874816.0000\n",
      "Epoch [55/100], Loss: 4047734528.0000\n",
      "Epoch [56/100], Loss: 4047594752.0000\n",
      "Epoch [57/100], Loss: 4047455232.0000\n",
      "Epoch [58/100], Loss: 4047314432.0000\n",
      "Epoch [59/100], Loss: 4047174656.0000\n",
      "Epoch [60/100], Loss: 4047035136.0000\n",
      "Epoch [61/100], Loss: 4046895360.0000\n",
      "Epoch [62/100], Loss: 4046755072.0000\n",
      "Epoch [63/100], Loss: 4046615040.0000\n",
      "Epoch [64/100], Loss: 4046474752.0000\n",
      "Epoch [65/100], Loss: 4046334720.0000\n",
      "Epoch [66/100], Loss: 4046195456.0000\n",
      "Epoch [67/100], Loss: 4046055168.0000\n",
      "Epoch [68/100], Loss: 4045915136.0000\n",
      "Epoch [69/100], Loss: 4045775872.0000\n",
      "Epoch [70/100], Loss: 4045635584.0000\n",
      "Epoch [71/100], Loss: 4045496320.0000\n",
      "Epoch [72/100], Loss: 4045356032.0000\n",
      "Epoch [73/100], Loss: 4045216000.0000\n",
      "Epoch [74/100], Loss: 4045076224.0000\n",
      "Epoch [75/100], Loss: 4044936448.0000\n",
      "Epoch [76/100], Loss: 4044796416.0000\n",
      "Epoch [77/100], Loss: 4044655616.0000\n",
      "Epoch [78/100], Loss: 4044516096.0000\n",
      "Epoch [79/100], Loss: 4044376320.0000\n",
      "Epoch [80/100], Loss: 4044236544.0000\n",
      "Epoch [81/100], Loss: 4044097280.0000\n",
      "Epoch [82/100], Loss: 4043957248.0000\n",
      "Epoch [83/100], Loss: 4043816960.0000\n",
      "Epoch [84/100], Loss: 4043677184.0000\n",
      "Epoch [85/100], Loss: 4043537408.0000\n",
      "Epoch [86/100], Loss: 4043397888.0000\n",
      "Epoch [87/100], Loss: 4043258112.0000\n",
      "Epoch [88/100], Loss: 4043117824.0000\n",
      "Epoch [89/100], Loss: 4042978304.0000\n",
      "Epoch [90/100], Loss: 4042838528.0000\n",
      "Epoch [91/100], Loss: 4042699264.0000\n",
      "Epoch [92/100], Loss: 4042558464.0000\n",
      "Epoch [93/100], Loss: 4042419200.0000\n",
      "Epoch [94/100], Loss: 4042279680.0000\n",
      "Epoch [95/100], Loss: 4042139904.0000\n",
      "Epoch [96/100], Loss: 4041999616.0000\n",
      "Epoch [97/100], Loss: 4041860352.0000\n",
      "Epoch [98/100], Loss: 4041720832.0000\n",
      "Epoch [99/100], Loss: 4041581056.0000\n",
      "Epoch [100/100], Loss: 4041441280.0000\n"
     ]
    }
   ],
   "source": [
    "# Training loop\n",
    "num_epochs = 100\n",
    "device = torch.device('cuda' if torch.cuda.is_available() else 'cpu')\n",
    "model.to(device)\n",
    "\n",
    "for epoch in range(num_epochs):\n",
    "    model.train()\n",
    "    for batch_X, batch_y in train_loader:\n",
    "        batch_X, batch_y = batch_X.to(device), batch_y.to(device)\n",
    "        \n",
    "        # Forward pass\n",
    "        outputs = model(batch_X)\n",
    "        loss = criterion(outputs, batch_y)\n",
    "        \n",
    "        # Backward pass and optimization\n",
    "        optimizer.zero_grad()\n",
    "        loss.backward()\n",
    "        optimizer.step()\n",
    "    \n",
    "    print(f'Epoch [{epoch+1}/{num_epochs}], Loss: {loss.item():.4f}')"
   ]
  },
  {
   "cell_type": "code",
   "execution_count": 43,
   "metadata": {},
   "outputs": [
    {
     "name": "stdout",
     "output_type": "stream",
     "text": [
      "Root Mean Squared Error: 80967.0547\n",
      "Mean Absolute Error: 78947.1172\n",
      "Mean Squared Error: 6555663360.0000\n"
     ]
    }
   ],
   "source": [
    "model.eval()\n",
    "with torch.no_grad():\n",
    "    y_pred = []\n",
    "    for batch_X, batch_y in test_loader:\n",
    "        batch_X = batch_X.to(device)\n",
    "        outputs = model(batch_X)\n",
    "        y_pred.extend(outputs.cpu().numpy())\n",
    "    \n",
    "    y_pred = np.array(y_pred).flatten()\n",
    "    y_test_np = y_test.numpy()\n",
    "    \n",
    "    mse = mean_squared_error(y_test_np, y_pred)\n",
    "    mae = mean_absolute_error(y_test_np, y_pred)\n",
    "    rmse = np.sqrt(mse)\n",
    "    \n",
    "    print(f'Root Mean Squared Error: {rmse:.4f}')\n",
    "    print(f'Mean Absolute Error: {mae:.4f}')\n",
    "    print(f'Mean Squared Error: {mse:.4f}')"
   ]
  },
  {
   "cell_type": "code",
   "execution_count": null,
   "metadata": {},
   "outputs": [],
   "source": []
  }
 ],
 "metadata": {
  "kernelspec": {
   "display_name": "base",
   "language": "python",
   "name": "python3"
  },
  "language_info": {
   "codemirror_mode": {
    "name": "ipython",
    "version": 3
   },
   "file_extension": ".py",
   "mimetype": "text/x-python",
   "name": "python",
   "nbconvert_exporter": "python",
   "pygments_lexer": "ipython3",
   "version": "3.12.7"
  }
 },
 "nbformat": 4,
 "nbformat_minor": 2
}
